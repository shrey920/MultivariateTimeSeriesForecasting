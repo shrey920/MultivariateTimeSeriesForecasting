{
  "nbformat": 4,
  "nbformat_minor": 0,
  "metadata": {
    "colab": {
      "name": "MultivariateTimeSeriesForecasting.ipynb",
      "version": "0.3.2",
      "provenance": [],
      "collapsed_sections": []
    },
    "kernelspec": {
      "name": "python3",
      "display_name": "Python 3"
    },
    "accelerator": "GPU"
  },
  "cells": [
    {
      "metadata": {
        "id": "lCeSgYJHW-2r",
        "colab_type": "code",
        "colab": {}
      },
      "cell_type": "code",
      "source": [
        ""
      ],
      "execution_count": 0,
      "outputs": []
    },
    {
      "metadata": {
        "id": "0MZjMHaq9L67",
        "colab_type": "code",
        "outputId": "ff059e03-a4a0-4f81-feeb-0cba205c9c5e",
        "colab": {
          "base_uri": "https://localhost:8080/",
          "height": 88
        }
      },
      "cell_type": "code",
      "source": [
        "import os\n",
        "from os.path import exists\n",
        "from wheel.pep425tags import get_abbr_impl, get_impl_ver, get_abi_tag\n",
        "platform = '{}{}-{}'.format(get_abbr_impl(), get_impl_ver(), get_abi_tag())\n",
        "cuda_output = !ldconfig -p|grep cudart.so|sed -e 's/.*\\.\\([0-9]*\\)\\.\\([0-9]*\\)$/cu\\1\\2/'\n",
        "accelerator = cuda_output[0] if exists('/dev/nvidia0') else 'cpu'\n",
        "!nvcc --version\n",
        "# !pip install -q http://download.pytorch.org/whl/{accelerator}/torch-0.4.1-{platform}-linux_x86_64.whl torchvision\n",
        "!pip install -q https://download.pytorch.org/whl/cu100/torch-1.0.0-cp36-cp36m-linux_x86_64.whl torchvision"
      ],
      "execution_count": 1,
      "outputs": [
        {
          "output_type": "stream",
          "text": [
            "nvcc: NVIDIA (R) Cuda compiler driver\n",
            "Copyright (c) 2005-2018 NVIDIA Corporation\n",
            "Built on Sat_Aug_25_21:08:01_CDT_2018\n",
            "Cuda compilation tools, release 10.0, V10.0.130\n"
          ],
          "name": "stdout"
        }
      ]
    },
    {
      "metadata": {
        "id": "RY0Pd8eEXGe4",
        "colab_type": "code",
        "colab": {}
      },
      "cell_type": "code",
      "source": [
        "\n",
        "import torch\n",
        "import torch.nn as nn\n",
        "import torch.nn.functional as F\n",
        "import argparse\n",
        "import math\n",
        "import time\n",
        "import numpy as np;\n",
        "import importlib\n",
        "\n",
        "import torch.optim\n",
        "from torch.autograd import Variable\n"
      ],
      "execution_count": 0,
      "outputs": []
    },
    {
      "metadata": {
        "id": "y-kwQxvbXPan",
        "colab_type": "code",
        "colab": {}
      },
      "cell_type": "code",
      "source": [
        "class LSTNet(nn.Module):\n",
        "    def __init__(self, args, data):\n",
        "        super(LSTNet, self).__init__()\n",
        "#         self.use_cuda = args.cuda\n",
        "        self.P = args.window;\n",
        "        self.m = data.m\n",
        "        self.hidR = args.hidRNN;\n",
        "        self.hidC = args.hidCNN;\n",
        "        self.hidS = args.hidSkip;\n",
        "        self.Ck = args.CNN_kernel;\n",
        "        self.skip = args.skip;\n",
        "        self.pt = (self.P - self.Ck)//self.skip\n",
        "        self.hw = args.highway_window\n",
        "        self.conv1 = nn.Conv2d(1, self.hidC, kernel_size = (self.Ck, self.m));\n",
        "        self.GRU1 = nn.GRU(self.hidC, self.hidR);\n",
        "        self.dropout = nn.Dropout(p = args.dropout);\n",
        "        if (self.skip > 0):\n",
        "            self.GRUskip = nn.GRU(self.hidC, self.hidS);\n",
        "            self.linear1 = nn.Linear(self.hidR + self.skip * self.hidS, self.m);\n",
        "        else:\n",
        "            self.linear1 = nn.Linear(self.hidR, self.m);\n",
        "        if (self.hw > 0):\n",
        "            self.highway = nn.Linear(self.hw, 1);\n",
        "        self.output = None;\n",
        "        if (args.output_fun == 'sigmoid'):\n",
        "            self.output = F.sigmoid;\n",
        "        if (args.output_fun == 'tanh'):\n",
        "            self.output = F.tanh;\n",
        " \n",
        "    def forward(self, x):\n",
        "        batch_size = x.size(0);\n",
        "        \n",
        "        #CNN\n",
        "        c = x.view(-1, 1, self.P, self.m);\n",
        "        c = F.relu(self.conv1(c));\n",
        "        c = self.dropout(c);\n",
        "        c = torch.squeeze(c, 3);\n",
        "        \n",
        "        # RNN \n",
        "        r = c.permute(2, 0, 1).contiguous();\n",
        "        _, r = self.GRU1(r);\n",
        "        r = self.dropout(torch.squeeze(r,0));\n",
        "\n",
        "        \n",
        "        #skip-rnn\n",
        "        \n",
        "        if (self.skip > 0):\n",
        "            s = c[:,:, int(-self.pt * self.skip):].contiguous();\n",
        "            s = s.view(batch_size, self.hidC, self.pt, self.skip);\n",
        "            s = s.permute(2,0,3,1).contiguous();\n",
        "            s = s.view(self.pt, batch_size * self.skip, self.hidC);\n",
        "            _, s = self.GRUskip(s);\n",
        "            s = s.view(batch_size, self.skip * self.hidS);\n",
        "            s = self.dropout(s);\n",
        "            r = torch.cat((r,s),1);\n",
        "        \n",
        "        res = self.linear1(r);\n",
        "        \n",
        "        #highway\n",
        "        if (self.hw > 0):\n",
        "            z = x[:, -self.hw:, :];\n",
        "            z = z.permute(0,2,1).contiguous().view(-1, self.hw);\n",
        "            z = self.highway(z);\n",
        "            z = z.view(-1,self.m);\n",
        "            res = res + z;\n",
        "            \n",
        "        if (self.output):\n",
        "            res = self.output(res);\n",
        "        return res;"
      ],
      "execution_count": 0,
      "outputs": []
    },
    {
      "metadata": {
        "id": "NzDum9WcXfbR",
        "colab_type": "code",
        "colab": {}
      },
      "cell_type": "code",
      "source": [
        "def normal_std(x):\n",
        "    return x.std() * np.sqrt((len(x) - 1.)/(len(x)))\n",
        "\n",
        "class Data_utility(object):\n",
        "    # train and valid is the ratio of training set and validation set. test = 1 - train - valid\n",
        "    def __init__(self, file_name, train, valid,  horizon, window, normalize = 2):\n",
        "#         self.cuda = cuda;\n",
        "        self.P = window\n",
        "        self.h = horizon\n",
        "        fin = open(file_name)\n",
        "        self.rawdat = np.loadtxt(fin,delimiter=',')\n",
        "        self.dat = np.zeros(self.rawdat.shape)\n",
        "        self.n, self.m = self.dat.shape\n",
        "        self.normalize = 2\n",
        "        self.scale = np.ones(self.m)\n",
        "        self._normalized(normalize)\n",
        "        self._split(int(train * self.n), int((train+valid) * self.n), self.n)\n",
        "        self.scale = torch.from_numpy(self.scale).float()\n",
        "        tmp = self.test[1] * self.scale.expand(self.test[1].size(0), self.m)\n",
        "            \n",
        "#         if self.cuda:\n",
        "#             self.scale = self.scale.cuda();\n",
        "#         self.scale = Variable(self.scale);\n",
        "        \n",
        "        self.rse = normal_std(tmp)\n",
        "        self.rae = torch.mean(torch.abs(tmp - torch.mean(tmp)))\n",
        "    \n",
        "    def _normalized(self, normalize):\n",
        "        #normalized by the maximum value of entire matrix.\n",
        "       \n",
        "        if (normalize == 0):\n",
        "            self.dat = self.rawdat\n",
        "            \n",
        "        if (normalize == 1):\n",
        "            self.dat = self.rawdat / np.max(self.rawdat)\n",
        "            \n",
        "        #normlized by the maximum value of each row(sensor).\n",
        "        if (normalize == 2):\n",
        "            for i in range(self.m):\n",
        "                self.scale[i] = np.max(np.abs(self.rawdat[:,i]))\n",
        "                self.dat[:,i] = self.rawdat[:,i] / np.max(np.abs(self.rawdat[:,i]))\n",
        "            \n",
        "        \n",
        "    def _split(self, train, valid, test):\n",
        "        \n",
        "        train_set = range(self.P+self.h-1, train)\n",
        "        valid_set = range(train, valid)\n",
        "        test_set = range(valid, self.n)\n",
        "        self.train = self._batchify(train_set, self.h)\n",
        "        self.valid = self._batchify(valid_set, self.h)\n",
        "        self.test = self._batchify(test_set, self.h)\n",
        "        \n",
        "        \n",
        "    def _batchify(self, idx_set, horizon):\n",
        "        \n",
        "        n = len(idx_set)\n",
        "        X = torch.zeros((n,self.P,self.m))\n",
        "        Y = torch.zeros((n,self.m))\n",
        "        \n",
        "        for i in range(n):\n",
        "            end = idx_set[i] - self.h + 1\n",
        "            start = end - self.P\n",
        "            X[i,:,:] = torch.from_numpy(self.dat[start:end, :])\n",
        "            Y[i,:] = torch.from_numpy(self.dat[idx_set[i], :])\n",
        "\n",
        "        return [X, Y]\n",
        "\n",
        "    def get_batches(self, inputs, targets, batch_size, shuffle=True):\n",
        "        length = len(inputs)\n",
        "        if shuffle:\n",
        "            index = torch.randperm(length)\n",
        "        else:\n",
        "            index = torch.LongTensor(range(length))\n",
        "        start_idx = 0\n",
        "        while (start_idx < length):\n",
        "            end_idx = min(length, start_idx + batch_size)\n",
        "            excerpt = index[start_idx:end_idx]\n",
        "            X = inputs[excerpt]; Y = targets[excerpt]\n",
        "#             if (self.cuda):\n",
        "#                 X = X.cuda()\n",
        "#                 Y = Y.cuda()  \n",
        "            yield Variable(X), Variable(Y)\n",
        "            start_idx += batch_size"
      ],
      "execution_count": 0,
      "outputs": []
    },
    {
      "metadata": {
        "id": "Rk6ykajFYDRe",
        "colab_type": "code",
        "colab": {}
      },
      "cell_type": "code",
      "source": [
        "def evaluate(data, X, Y, model, evaluateL2, evaluateL1, batch_size):\n",
        "    model.eval()\n",
        "    total_loss = 0\n",
        "    total_loss_l1 = 0\n",
        "    n_samples = 0\n",
        "    predict = None\n",
        "    test = None\n",
        "    \n",
        "    for X, Y in data.get_batches(X, Y, batch_size, False):\n",
        "        output = model(X)\n",
        "        if predict is None:\n",
        "            predict = output\n",
        "            test = Y\n",
        "        else:\n",
        "            predict = torch.cat((predict,output))\n",
        "            test = torch.cat((test, Y))\n",
        "        \n",
        "        scale = data.scale.expand(output.size(0), data.m)\n",
        "        total_loss += evaluateL2(output * scale, Y * scale).data\n",
        "        total_loss_l1 += evaluateL1(output * scale, Y * scale).data\n",
        "        n_samples += (output.size(0) * data.m)\n",
        "    rse = math.sqrt(total_loss / n_samples)/data.rse\n",
        "    rae = (total_loss_l1/n_samples)/data.rae\n",
        "    \n",
        "    predict = predict.data.cpu().numpy()\n",
        "    Ytest = test.data.cpu().numpy()\n",
        "    sigma_p = (predict).std(axis = 0)\n",
        "    sigma_g = (Ytest).std(axis = 0)\n",
        "    mean_p = predict.mean(axis = 0)\n",
        "    mean_g = Ytest.mean(axis = 0)\n",
        "    index = (sigma_g!=0)\n",
        "    correlation = ((predict - mean_p) * (Ytest - mean_g)).mean(axis = 0)/(sigma_p * sigma_g)\n",
        "    correlation = (correlation[index]).mean()\n",
        "    return rse, rae, correlation\n",
        "\n",
        "def train(data, X, Y, model, criterion, batch_size):\n",
        "    model.train()\n",
        "    total_loss = 0\n",
        "    n_samples = 0\n",
        "    for X, Y in data.get_batches(X, Y, batch_size, True):\n",
        "        model.zero_grad()\n",
        "        output = model(X)\n",
        "        scale = data.scale.expand(output.size(0), data.m)\n",
        "        loss = criterion(output * scale, Y * scale)\n",
        "        loss.backward()\n",
        "        grad_norm = optim.step()\n",
        "        total_loss += loss.data\n",
        "        n_samples += (output.size(0) * data.m);\n",
        "    return total_loss / n_samples"
      ],
      "execution_count": 0,
      "outputs": []
    },
    {
      "metadata": {
        "id": "0KLfPja3974O",
        "colab_type": "code",
        "outputId": "57166da4-9cac-413b-f81c-619cc138d915",
        "colab": {
          "base_uri": "https://localhost:8080/",
          "height": 52
        }
      },
      "cell_type": "code",
      "source": [
        "from google.colab import drive, files\n",
        "drive.mount('/content/drive')\n",
        "os.chdir(\"/content/drive/My Drive/LSTNet_data\")\n",
        "!ls\n"
      ],
      "execution_count": 7,
      "outputs": [
        {
          "output_type": "stream",
          "text": [
            "Drive already mounted at /content/drive; to attempt to forcibly remount, call drive.mount(\"/content/drive\", force_remount=True).\n",
            "electricity.txt  exchange_rate.txt  save  solar_AL.txt\ttraffic.txt\n"
          ],
          "name": "stdout"
        }
      ]
    },
    {
      "metadata": {
        "id": "0UZ9fZi8YOQ9",
        "colab_type": "code",
        "colab": {}
      },
      "cell_type": "code",
      "source": [
        "class Arguments():\n",
        "    def __init__(self,data,hidCNN=100,hidRNN=100,window=35,CNN_kernel=6,highway_window=24,clip=10,epochs=100,batch_size=128,dropout=0.2,seed=54321,save=\"save.pt\",optim=\"adam\",lr=0.001,horizon=12,skip=24,hidskip=5,L1loss=True,normalize=2,output_fun=\"sigmoid\"):\n",
        "        self.data=data\n",
        "        self.hidCNN=hidCNN\n",
        "        self.hidRNN=hidRNN\n",
        "        self.window=window\n",
        "        self.CNN_kernel=CNN_kernel\n",
        "        self.highway_window=highway_window\n",
        "        self.clip=clip\n",
        "        self.epochs=epochs\n",
        "        self.batch_size=batch_size\n",
        "        self.dropout=dropout\n",
        "        self.seed=seed\n",
        "        self.optim=optim\n",
        "        self.lr=lr\n",
        "        self.skip=skip\n",
        "        self.normalize=normalize\n",
        "        self.horizon=horizon\n",
        "        self.save=save\n",
        "        self.output_fun=output_fun\n",
        "        self.hidSkip=hidskip\n",
        "        self.L1Loss=L1loss"
      ],
      "execution_count": 0,
      "outputs": []
    },
    {
      "metadata": {
        "id": "MxPGjHUr7L1h",
        "colab_type": "code",
        "colab": {}
      },
      "cell_type": "code",
      "source": [
        "args=Arguments(horizon=24,hidCNN=50, hidRNN=50,L1loss=False,data=\"exchange_rate.txt\",save=\"save/save.pt\",output_fun=None)\n"
      ],
      "execution_count": 0,
      "outputs": []
    },
    {
      "metadata": {
        "id": "Tja2bn-vU9iA",
        "colab_type": "code",
        "colab": {
          "base_uri": "https://localhost:8080/",
          "height": 35
        },
        "outputId": "6ae97b79-c055-4b7e-fe2d-fa2140188bcf"
      },
      "cell_type": "code",
      "source": [
        "Data = Data_utility(args.data, 0.6, 0.2, args.horizon, args.window, args.normalize);\n",
        "print(Data.rse)"
      ],
      "execution_count": 14,
      "outputs": [
        {
          "output_type": "stream",
          "text": [
            "tensor(0.4558)\n"
          ],
          "name": "stdout"
        }
      ]
    },
    {
      "metadata": {
        "id": "WcT-q95CVPTx",
        "colab_type": "code",
        "colab": {}
      },
      "cell_type": "code",
      "source": [
        "import torch.optim as optim\n",
        "\n",
        "class Optim(object):\n",
        "\n",
        "    def _makeOptimizer(self):\n",
        "        if self.method == 'sgd':\n",
        "            self.optimizer = optim.SGD(self.params, lr=self.lr)\n",
        "        elif self.method == 'adagrad':\n",
        "            self.optimizer = optim.Adagrad(self.params, lr=self.lr)\n",
        "        elif self.method == 'adadelta':\n",
        "            self.optimizer = optim.Adadelta(self.params, lr=self.lr)\n",
        "        elif self.method == 'adam':\n",
        "            self.optimizer = optim.Adam(self.params, lr=self.lr)\n",
        "        else:\n",
        "            raise RuntimeError(\"Invalid optim method: \" + self.method)\n",
        "\n",
        "    def __init__(self, params, method, lr, max_grad_norm, lr_decay=1, start_decay_at=None):\n",
        "        self.params = list(params)  # careful: params may be a generator\n",
        "        self.last_ppl = None\n",
        "        self.lr = lr\n",
        "        self.max_grad_norm = max_grad_norm\n",
        "        self.method = method\n",
        "        self.lr_decay = lr_decay\n",
        "        self.start_decay_at = start_decay_at\n",
        "        self.start_decay = False\n",
        "\n",
        "        self._makeOptimizer()\n",
        "\n",
        "    def step(self):\n",
        "        # Compute gradients norm.\n",
        "        grad_norm = 0\n",
        "        for param in self.params:\n",
        "            grad_norm += math.pow(param.grad.data.norm(), 2)\n",
        "\n",
        "        grad_norm = math.sqrt(grad_norm)\n",
        "        if grad_norm > 0:\n",
        "            shrinkage = self.max_grad_norm / grad_norm\n",
        "        else:\n",
        "            shrinkage = 1.\n",
        "\n",
        "        for param in self.params:\n",
        "            if shrinkage < 1:\n",
        "                param.grad.data.mul_(shrinkage)\n",
        "\n",
        "        self.optimizer.step()\n",
        "        return grad_norm\n",
        "\n",
        "    # decay learning rate if val perf does not improve or we hit the start_decay_at limit\n",
        "    def updateLearningRate(self, ppl, epoch):\n",
        "        if self.start_decay_at is not None and epoch >= self.start_decay_at:\n",
        "            self.start_decay = True\n",
        "        if self.last_ppl is not None and ppl > self.last_ppl:\n",
        "            self.start_decay = True\n",
        "\n",
        "        if self.start_decay:\n",
        "            self.lr = self.lr * self.lr_decay\n",
        "            print(\"Decaying learning rate to %g\" % self.lr)\n",
        "        #only decay for one epoch\n",
        "        self.start_decay = False\n",
        "\n",
        "        self.last_ppl = ppl\n",
        "\n",
        "        self._makeOptimizer()\n"
      ],
      "execution_count": 0,
      "outputs": []
    },
    {
      "metadata": {
        "id": "7YJdtWndU_aS",
        "colab_type": "code",
        "colab": {
          "base_uri": "https://localhost:8080/",
          "height": 90
        },
        "outputId": "265832e8-c1b9-471b-acd2-a24150116e4b"
      },
      "cell_type": "code",
      "source": [
        "model = LSTNet(args, Data)\n",
        "nParams = sum([p.nelement() for p in model.parameters()])\n",
        "print('* number of parameters: %d' % nParams)\n",
        "\n",
        "if args.L1Loss:\n",
        "    criterion = nn.L1Loss(size_average=False);\n",
        "else:\n",
        "    criterion = nn.MSELoss(size_average=False);\n",
        "evaluateL2 = nn.MSELoss(size_average=False);\n",
        "evaluateL1 = nn.L1Loss(size_average=False)\n",
        "\n",
        "best_val = 1000000;\n",
        "\n",
        "optim = Optim(\n",
        "    model.parameters(), args.optim, args.lr, args.clip,\n",
        ")\n"
      ],
      "execution_count": 21,
      "outputs": [
        {
          "output_type": "stream",
          "text": [
            "* number of parameters: 19998\n"
          ],
          "name": "stdout"
        },
        {
          "output_type": "stream",
          "text": [
            "/usr/local/lib/python3.6/dist-packages/torch/nn/_reduction.py:49: UserWarning: size_average and reduce args will be deprecated, please use reduction='sum' instead.\n",
            "  warnings.warn(warning.format(ret))\n"
          ],
          "name": "stderr"
        }
      ]
    },
    {
      "metadata": {
        "id": "lqYEimPZVKO7",
        "colab_type": "code",
        "colab": {
          "base_uri": "https://localhost:8080/",
          "height": 1045
        },
        "outputId": "bf8f7971-fea7-45d7-c330-911e7ae47732"
      },
      "cell_type": "code",
      "source": [
        "\n",
        "try:\n",
        "    print('begin training');\n",
        "    for epoch in range(1, args.epochs+1):\n",
        "        epoch_start_time = time.time()\n",
        "        train_loss = train(Data, Data.train[0], Data.train[1], model, criterion, args.batch_size)\n",
        "        val_loss, val_rae, val_corr = evaluate(Data, Data.valid[0], Data.valid[1], model, evaluateL2, evaluateL1, args.batch_size);\n",
        "        print('| end of epoch {:3d} | time: {:5.2f}s | train_loss {:5.4f} | valid rse {:5.4f} | valid rae {:5.4f} | valid corr  {:5.4f}'.format(epoch, (time.time() - epoch_start_time), train_loss, val_loss, val_rae, val_corr))\n",
        "        # Save the model if the validation loss is the best we've seen so far.\n",
        "\n",
        "        if val_loss < best_val:\n",
        "            with open(args.save, 'wb') as f:\n",
        "                torch.save(model, f)\n",
        "            best_val = val_loss\n",
        "        if epoch % 5 == 0:\n",
        "            test_acc, test_rae, test_corr  = evaluate(Data, Data.test[0], Data.test[1], model, evaluateL2, evaluateL1, args.batch_size);\n",
        "            print (\"test rse {:5.4f} | test rae {:5.4f} | test corr {:5.4f}\".format(test_acc, test_rae, test_corr))\n",
        "\n",
        "except KeyboardInterrupt:\n",
        "    print('-' * 89)\n",
        "    print('Exiting from training early')\n",
        "\n",
        "# Load the best saved model.\n",
        "with open(args.save, 'rb') as f:\n",
        "    model = torch.load(f)\n",
        "test_acc, test_rae, test_corr  = evaluate(Data, Data.test[0], Data.test[1], model, evaluateL2, evaluateL1, args.batch_size);\n",
        "\n",
        "print(\"\\n\\n\\n After end of training.\")\n",
        "print (\"test rse {:5.4f} | test rae {:5.4f} | test corr {:5.4f}\".format(test_acc, test_rae, test_corr))\n"
      ],
      "execution_count": 0,
      "outputs": [
        {
          "output_type": "stream",
          "text": [
            "begin training\n",
            "| end of epoch   1 | time:  6.51s | train_loss 0.4468 | valid rse 0.3831 | valid rae 0.3814 | valid corr  0.0233\n"
          ],
          "name": "stdout"
        },
        {
          "output_type": "stream",
          "text": [
            "/usr/local/lib/python3.6/dist-packages/torch/serialization.py:250: UserWarning: Couldn't retrieve source code for container of type LSTNet. It won't be checked for correctness upon loading.\n",
            "  \"type \" + obj.__name__ + \". It won't be checked \"\n"
          ],
          "name": "stderr"
        },
        {
          "output_type": "stream",
          "text": [
            "| end of epoch   2 | time:  6.50s | train_loss 0.0201 | valid rse 0.2597 | valid rae 0.2597 | valid corr  0.7346\n",
            "| end of epoch   3 | time:  6.56s | train_loss 0.0041 | valid rse 0.1810 | valid rae 0.1882 | valid corr  0.9022\n",
            "| end of epoch   4 | time:  6.64s | train_loss 0.0021 | valid rse 0.1132 | valid rae 0.1065 | valid corr  0.9147\n",
            "| end of epoch   5 | time:  6.70s | train_loss 0.0013 | valid rse 0.1017 | valid rae 0.0843 | valid corr  0.9086\n",
            "test rse 0.0909 | test rae 0.0734 | test corr 0.9299\n",
            "| end of epoch   6 | time:  6.85s | train_loss 0.0011 | valid rse 0.0943 | valid rae 0.0846 | valid corr  0.9117\n",
            "| end of epoch   7 | time:  6.93s | train_loss 0.0010 | valid rse 0.0962 | valid rae 0.0903 | valid corr  0.9212\n",
            "| end of epoch   8 | time:  6.96s | train_loss 0.0009 | valid rse 0.0948 | valid rae 0.0730 | valid corr  0.9197\n",
            "| end of epoch   9 | time:  6.44s | train_loss 0.0009 | valid rse 0.0866 | valid rae 0.0760 | valid corr  0.9213\n",
            "| end of epoch  10 | time:  6.80s | train_loss 0.0008 | valid rse 0.0861 | valid rae 0.0776 | valid corr  0.9253\n",
            "test rse 0.0528 | test rae 0.0473 | test corr 0.9324\n",
            "| end of epoch  11 | time: 11.39s | train_loss 0.0008 | valid rse 0.0832 | valid rae 0.0722 | valid corr  0.9244\n",
            "| end of epoch  12 | time: 11.33s | train_loss 0.0008 | valid rse 0.0865 | valid rae 0.0673 | valid corr  0.9242\n",
            "| end of epoch  13 | time: 10.91s | train_loss 0.0007 | valid rse 0.0837 | valid rae 0.0696 | valid corr  0.9252\n",
            "| end of epoch  14 | time: 11.58s | train_loss 0.0007 | valid rse 0.0827 | valid rae 0.0700 | valid corr  0.9235\n",
            "| end of epoch  15 | time: 11.40s | train_loss 0.0007 | valid rse 0.0908 | valid rae 0.0701 | valid corr  0.9246\n",
            "test rse 0.0794 | test rae 0.0683 | test corr 0.9331\n",
            "| end of epoch  16 | time: 10.99s | train_loss 0.0007 | valid rse 0.0834 | valid rae 0.0747 | valid corr  0.9282\n",
            "| end of epoch  17 | time: 11.22s | train_loss 0.0007 | valid rse 0.0797 | valid rae 0.0667 | valid corr  0.9269\n",
            "| end of epoch  18 | time: 11.79s | train_loss 0.0007 | valid rse 0.0781 | valid rae 0.0638 | valid corr  0.9302\n",
            "| end of epoch  19 | time:  7.87s | train_loss 0.0007 | valid rse 0.0807 | valid rae 0.0637 | valid corr  0.9300\n",
            "| end of epoch  20 | time:  6.37s | train_loss 0.0007 | valid rse 0.0804 | valid rae 0.0667 | valid corr  0.9276\n",
            "test rse 0.0554 | test rae 0.0460 | test corr 0.9339\n",
            "| end of epoch  21 | time:  6.65s | train_loss 0.0006 | valid rse 0.0784 | valid rae 0.0663 | valid corr  0.9309\n",
            "| end of epoch  22 | time:  6.99s | train_loss 0.0007 | valid rse 0.0807 | valid rae 0.0668 | valid corr  0.9277\n",
            "| end of epoch  23 | time:  6.36s | train_loss 0.0006 | valid rse 0.0852 | valid rae 0.0686 | valid corr  0.9257\n",
            "| end of epoch  24 | time:  6.79s | train_loss 0.0006 | valid rse 0.0784 | valid rae 0.0643 | valid corr  0.9320\n",
            "| end of epoch  25 | time:  6.51s | train_loss 0.0007 | valid rse 0.0792 | valid rae 0.0630 | valid corr  0.9309\n",
            "test rse 0.0542 | test rae 0.0451 | test corr 0.9342\n",
            "| end of epoch  26 | time:  6.48s | train_loss 0.0007 | valid rse 0.0789 | valid rae 0.0665 | valid corr  0.9303\n",
            "| end of epoch  27 | time:  6.82s | train_loss 0.0006 | valid rse 0.0801 | valid rae 0.0654 | valid corr  0.9284\n",
            "| end of epoch  28 | time:  6.91s | train_loss 0.0006 | valid rse 0.0811 | valid rae 0.0674 | valid corr  0.9281\n",
            "| end of epoch  29 | time:  6.58s | train_loss 0.0006 | valid rse 0.0790 | valid rae 0.0661 | valid corr  0.9301\n",
            "| end of epoch  30 | time:  6.59s | train_loss 0.0007 | valid rse 0.0815 | valid rae 0.0643 | valid corr  0.9280\n",
            "test rse 0.0565 | test rae 0.0471 | test corr 0.9349\n",
            "| end of epoch  31 | time:  6.50s | train_loss 0.0006 | valid rse 0.0788 | valid rae 0.0698 | valid corr  0.9332\n",
            "| end of epoch  32 | time:  6.82s | train_loss 0.0006 | valid rse 0.0811 | valid rae 0.0700 | valid corr  0.9279\n",
            "| end of epoch  33 | time:  6.48s | train_loss 0.0006 | valid rse 0.0838 | valid rae 0.0755 | valid corr  0.9295\n",
            "| end of epoch  34 | time:  6.26s | train_loss 0.0007 | valid rse 0.0772 | valid rae 0.0659 | valid corr  0.9309\n",
            "| end of epoch  35 | time:  6.70s | train_loss 0.0006 | valid rse 0.0804 | valid rae 0.0696 | valid corr  0.9282\n",
            "test rse 0.0497 | test rae 0.0441 | test corr 0.9350\n",
            "| end of epoch  36 | time:  6.78s | train_loss 0.0006 | valid rse 0.0824 | valid rae 0.0733 | valid corr  0.9280\n",
            "| end of epoch  37 | time:  7.32s | train_loss 0.0006 | valid rse 0.0797 | valid rae 0.0687 | valid corr  0.9298\n",
            "| end of epoch  38 | time:  6.27s | train_loss 0.0006 | valid rse 0.0836 | valid rae 0.0739 | valid corr  0.9290\n",
            "| end of epoch  39 | time:  7.33s | train_loss 0.0006 | valid rse 0.0820 | valid rae 0.0647 | valid corr  0.9269\n",
            "| end of epoch  40 | time:  6.88s | train_loss 0.0006 | valid rse 0.0767 | valid rae 0.0630 | valid corr  0.9339\n",
            "test rse 0.0532 | test rae 0.0447 | test corr 0.9351\n",
            "| end of epoch  41 | time:  6.66s | train_loss 0.0006 | valid rse 0.0808 | valid rae 0.0636 | valid corr  0.9304\n",
            "| end of epoch  42 | time:  6.85s | train_loss 0.0006 | valid rse 0.0877 | valid rae 0.0818 | valid corr  0.9302\n",
            "| end of epoch  43 | time:  6.73s | train_loss 0.0007 | valid rse 0.0784 | valid rae 0.0619 | valid corr  0.9331\n",
            "| end of epoch  44 | time:  6.75s | train_loss 0.0006 | valid rse 0.0849 | valid rae 0.0678 | valid corr  0.9269\n",
            "| end of epoch  45 | time:  6.75s | train_loss 0.0006 | valid rse 0.0752 | valid rae 0.0606 | valid corr  0.9353\n",
            "test rse 0.0521 | test rae 0.0438 | test corr 0.9359\n"
          ],
          "name": "stdout"
        }
      ]
    },
    {
      "metadata": {
        "id": "XNA5wXoIVcJ9",
        "colab_type": "code",
        "colab": {}
      },
      "cell_type": "code",
      "source": [
        ""
      ],
      "execution_count": 0,
      "outputs": []
    }
  ]
}